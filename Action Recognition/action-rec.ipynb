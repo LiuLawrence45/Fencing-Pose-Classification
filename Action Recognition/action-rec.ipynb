{
 "cells": [
  {
   "cell_type": "code",
   "execution_count": null,
   "metadata": {},
   "outputs": [],
   "source": [
    "#pip install tensorflow tensorflow-gpu opencv-python mediapipe sklearn matplotlib"
   ]
  },
  {
   "cell_type": "code",
   "execution_count": null,
   "metadata": {},
   "outputs": [],
   "source": [
    "import cv2 \n",
    "import numpy as np \n",
    "import os\n",
    "from matplotlib import pyplot as plt\n",
    "import time\n",
    "import mediapipe as mp"
   ]
  },
  {
   "cell_type": "code",
   "execution_count": null,
   "metadata": {},
   "outputs": [],
   "source": [
    "mp_holistic = mp.solutions.holistic\n",
    "mp_drawing = mp.solutions.drawing_utils"
   ]
  },
  {
   "cell_type": "code",
   "execution_count": null,
   "metadata": {},
   "outputs": [],
   "source": [
    "def mediapipe_detection(image, model):\n",
    "    image = cv2.cvtColor(image, cv2.COLOR_BGR2RGB) #color conversion from the frame that OpenCV grabs\n",
    "    image.flags.writeable = False #sets the image writeable status to false\n",
    "\n",
    "    results = model.process(image) #makes the detection, where MediaPipe is actually detecting from the frame ---- that OpenCV grabs [making prediction]\n",
    "    \n",
    "    image.flags.writeable = True #sets the image to writeable\n",
    "    image = cv2.cvtColor(image, cv2.COLOR_RGB2BGR) #color conversion back\n",
    "    return image, results "
   ]
  },
  {
   "cell_type": "code",
   "execution_count": null,
   "metadata": {},
   "outputs": [],
   "source": [
    "def draw_landmarks(image, results):\n",
    "    mp_drawing.draw_landmarks(image, results.pose_landmarks, mp_holistic.POSE_CONNECTIONS,\n",
    "        mp_drawing.DrawingSpec(color=(121,22,76), thickness = 2, circle_radius = 4),\n",
    "        mp_drawing.DrawingSpec(color=(80,44,121), thickness = 2, circle_radius = 2)\n",
    "        )\n",
    "\n",
    "    # mp_drawing.draw_landmarks(image, results.right_hand_landmarks, mp_holistic.HAND_CONNECTIONS)\n",
    "    # mp_drawing.draw_landmarks(image, results.left_hand_landmarks, mp_holistic.HAND_CONNECTIONS)"
   ]
  },
  {
   "cell_type": "code",
   "execution_count": null,
   "metadata": {},
   "outputs": [],
   "source": [
    "\n",
    "cap = cv2.VideoCapture(0)\n",
    "\n",
    "#set mediapipe model - will make initial detection, and then track keypoints - setting the different values. We can change these values\n",
    "with mp_holistic.Holistic(min_detection_confidence = 0.5, min_tracking_confidence = 0.5) as holistic:   \n",
    "    while cap.isOpened():\n",
    "\n",
    "        #feed, looping every single frame\n",
    "        ret, frame = cap.read()\n",
    "\n",
    "        #Make the detections using mediapipe_detection function\n",
    "        image, results = mediapipe_detection(frame, holistic)\n",
    "        print(results)\n",
    "\n",
    "\n",
    "        #Draw landmarks\n",
    "        draw_landmarks(image, results)\n",
    "\n",
    "\n",
    "\n",
    "\n",
    "        #show the frame!\n",
    "        cv2.imshow('OpenCV Feed', image)\n",
    "        if cv2.waitKey(10) & 0xFF == ord('q'):\n",
    "            break\n",
    "    cap.release()\n",
    "    cv2.destroyAllWindows()"
   ]
  },
  {
   "cell_type": "markdown",
   "metadata": {},
   "source": [
    "\"results.pose_landmarks\" is formatted as such: \n",
    "landmark {\n",
    "    x: \"\"\n",
    "    y: \"\"\n",
    "    z: \"\"\n",
    "    visibility: \"\"\n",
    "}\n",
    "\n",
    "where \"results.pose_landmarks.landmark\" is unformatted array, but can access each of 33 with \"results.pose_landmarks.landmark[i].visibility/x/y/z\""
   ]
  },
  {
   "cell_type": "code",
   "execution_count": null,
   "metadata": {},
   "outputs": [],
   "source": [
    "def extract_keypoints(results):\n",
    "    pose = np.array([[res.x, res.y, res.z, res.visibility] for res in results.pose_landmarks.landmark]).flatten() if results.pose_landmarks else np.zeros(33*4)\n",
    "\n",
    "\n",
    "    #this is only for tutorial - not necessary for pose recognition\n",
    "    # lh = np.array([[res.x, res.y, res.z] for res in results.left_hand_landmarks.landmark]).flatten() if results.left_hand_landmarks else np.zeros(21*3)\n",
    "    # rh = np.array([[res.x, res.y, res.z] for res in results.right_hand_landmarks.landmark]).flatten() if results.right_hand_landmarks else np.zeros(21*3)\n",
    "    # return np.concatenate([pose, lh, rh])\n",
    "    return pose\n",
    "    #######"
   ]
  },
  {
   "cell_type": "markdown",
   "metadata": {},
   "source": [
    "This file directory may be useful ...!"
   ]
  },
  {
   "cell_type": "code",
   "execution_count": null,
   "metadata": {},
   "outputs": [],
   "source": [
    "##CREATING TRAINING DATA\n",
    "\n",
    "DATA_PATH = os.path.join(\"MP_DATA\")\n",
    "actions = np.array(['lunge','fleche','nothing'])\n",
    "\n",
    "#30 videos of data\n",
    "no_sequences = 50\n",
    "\n",
    "#30 frames of length\n",
    "sequence_length = 30"
   ]
  },
  {
   "cell_type": "code",
   "execution_count": null,
   "metadata": {},
   "outputs": [],
   "source": [
    "for action in actions:\n",
    "    for sequence in range(no_sequences):\n",
    "        try:\n",
    "            os.makedirs(os.path.join(DATA_PATH, action, str(sequence)))\n",
    "        except:\n",
    "            pass"
   ]
  },
  {
   "cell_type": "markdown",
   "metadata": {},
   "source": [
    "COLLECTING DATA NOW!! THIS IS ONLY FOR TUTORIAL\n"
   ]
  },
  {
   "cell_type": "code",
   "execution_count": null,
   "metadata": {},
   "outputs": [],
   "source": [
    "\n",
    "cap = cv2.VideoCapture(0)\n",
    "\n",
    "#set mediapipe model - will make initial detection, and then track keypoints - setting the different values. We can change these values\n",
    "with mp_holistic.Holistic(min_detection_confidence = 0.5, min_tracking_confidence = 0.5) as holistic:   \n",
    "\n",
    "    for action in actions: \n",
    "        for sequence in range(no_sequences):\n",
    "            for frame_num in range(sequence_length):\n",
    "\n",
    "                #feed, looping every single frame\n",
    "                ret, frame = cap.read()\n",
    "\n",
    "                #Make the detections using mediapipe_detection function\n",
    "                image, results = mediapipe_detection(frame, holistic)\n",
    "\n",
    "\n",
    "                #Draw landmarks\n",
    "                draw_landmarks(image, results)\n",
    "\n",
    "                #apply wait logic\n",
    "                if frame_num == 0: \n",
    "                    cv2.putText(image, 'STARTING COLLECTION', (120,200), \n",
    "                               cv2.FONT_HERSHEY_SIMPLEX, 1, (0,0, 255), 4, cv2.LINE_AA)\n",
    "                    cv2.putText(image, '{} Number {}'.format(action, sequence), (15,12), \n",
    "                               cv2.FONT_HERSHEY_SIMPLEX, 1, (0, 255, 0), 4, cv2.LINE_AA)\n",
    "                               \n",
    "                    # Show to screen\n",
    "                    cv2.imshow('OpenCV Feed', image)\n",
    "                    cv2.waitKey(2000)\n",
    "                else: \n",
    "                    cv2.putText(image, '{} Number {}'.format(action, sequence), (120,200), \n",
    "                               cv2.FONT_HERSHEY_SIMPLEX, 1, (0, 255, 0), 4, cv2.LINE_AA)\n",
    "                    cv2.imshow('OpenCV Feed', image)\n",
    "\n",
    "                keypoints = extract_keypoints(results)\n",
    "                npy_path = os.path.join(DATA_PATH, action, str(sequence), str(frame_num))\n",
    "                np.save(npy_path, keypoints)\n",
    "\n",
    "                if cv2.waitKey(10) & 0xFF == ord('q'):\n",
    "                    break\n",
    "\n",
    "                \n",
    "    cap.release()\n",
    "    cv2.destroyAllWindows()"
   ]
  },
  {
   "cell_type": "markdown",
   "metadata": {},
   "source": [
    "Preprocessing Data and Create Labels and Features"
   ]
  },
  {
   "cell_type": "code",
   "execution_count": null,
   "metadata": {},
   "outputs": [],
   "source": [
    "from sklearn.model_selection import train_test_split\n",
    "from tensorflow.keras.utils import to_categorical\n",
    "import pickle"
   ]
  },
  {
   "cell_type": "code",
   "execution_count": null,
   "metadata": {},
   "outputs": [],
   "source": [
    "label_map = {label:num for num, label in enumerate(actions)}\n",
    "\n",
    "sequences, labels = [],[]\n",
    "for action in actions:\n",
    "    for sequence in range(no_sequences):\n",
    "        window = []\n",
    "        for frame_num in range(sequence_length):\n",
    "            res = np.load(os.path.join(DATA_PATH, action, str(sequence), \"{}.npy\".format(frame_num)), allow_pickle = True)\n",
    "            window.append(res)\n",
    "        sequences.append(window)\n",
    "        labels.append(label_map[action])"
   ]
  },
  {
   "cell_type": "code",
   "execution_count": null,
   "metadata": {},
   "outputs": [],
   "source": [
    "x = np.array(sequences)\n",
    "y = to_categorical(labels).astype(int)\n",
    "x_train, x_test, y_train, y_test = train_test_split(x, y, test_size = 0.4)"
   ]
  },
  {
   "cell_type": "code",
   "execution_count": null,
   "metadata": {},
   "outputs": [],
   "source": [
    "y_test.shape"
   ]
  },
  {
   "cell_type": "markdown",
   "metadata": {},
   "source": [
    "Build the Train the LSTM Neural Network"
   ]
  },
  {
   "cell_type": "code",
   "execution_count": 97,
   "metadata": {},
   "outputs": [],
   "source": [
    "from tensorflow.keras.models import Sequential\n",
    "from tensorflow.keras.layers import LSTM, Dense\n",
    "from tensorflow.keras.callbacks import TensorBoard"
   ]
  },
  {
   "cell_type": "markdown",
   "metadata": {},
   "source": [
    "Other networks: Many state of the art models currently use a number of CNN layers + LSTM layers. Use pre-trained mobile net followed by LSTM layers. However, using our training data, no where near same accuracy. \n",
    "\n",
    "Our network: MediaPipe Holistic + LSTM layers\n",
    "1) Less Data Required\n",
    "2) Faster to Train\n",
    "3) Faster Detections\n",
    "\n",
    "Using CNN Layer => a ton more data and parameters"
   ]
  },
  {
   "cell_type": "code",
   "execution_count": 98,
   "metadata": {},
   "outputs": [
    {
     "name": "stdout",
     "output_type": "stream",
     "text": [
      "WARNING:tensorflow:Layer lstm_3 will not use cuDNN kernels since it doesn't meet the criteria. It will use a generic GPU kernel as fallback when running on GPU.\n",
      "WARNING:tensorflow:Layer lstm_4 will not use cuDNN kernels since it doesn't meet the criteria. It will use a generic GPU kernel as fallback when running on GPU.\n",
      "WARNING:tensorflow:Layer lstm_5 will not use cuDNN kernels since it doesn't meet the criteria. It will use a generic GPU kernel as fallback when running on GPU.\n"
     ]
    }
   ],
   "source": [
    "log_dir = os.path.join('Logs')\n",
    "tb_callback = TensorBoard(log_dir = log_dir)\n",
    "model = Sequential()\n",
    "model.add(LSTM(64, return_sequences=True, activation = 'relu', input_shape = (30,132))) #30 frames, with 132 keypoints\n",
    "model.add(LSTM(128, return_sequences=True, activation = 'relu'))  \n",
    "model.add(LSTM(64, return_sequences=False, activation = 'relu'))  #because next layer is dense layer - Andrew Ng Deep Learning Specialization\n",
    "model.add(Dense(64,  activation = 'relu'))  \n",
    "model.add(Dense(32,  activation = 'relu'))  \n",
    "model.add(Dense(actions.shape[0], activation='softmax'))\n",
    "\n",
    "model.compile(optimizer = \"Adam\", loss = 'categorical_crossentropy', metrics = ['categorical_accuracy']) #need to use categorical crossentropy because multi-class classification model"
   ]
  },
  {
   "cell_type": "code",
   "execution_count": 99,
   "metadata": {},
   "outputs": [
    {
     "name": "stdout",
     "output_type": "stream",
     "text": [
      "Epoch 1/110\n",
      "3/3 [==============================] - 4s 417ms/step - loss: 1.0967 - categorical_accuracy: 0.3333\n",
      "Epoch 2/110\n",
      "3/3 [==============================] - 1s 404ms/step - loss: 1.0947 - categorical_accuracy: 0.3556\n",
      "Epoch 3/110\n",
      "3/3 [==============================] - 1s 359ms/step - loss: 0.9627 - categorical_accuracy: 0.5889\n",
      "Epoch 4/110\n",
      "3/3 [==============================] - 1s 381ms/step - loss: 0.9570 - categorical_accuracy: 0.6667\n",
      "Epoch 5/110\n",
      "3/3 [==============================] - 1s 407ms/step - loss: 0.8377 - categorical_accuracy: 0.5778\n",
      "Epoch 6/110\n",
      "3/3 [==============================] - 1s 365ms/step - loss: 0.6460 - categorical_accuracy: 0.7000\n",
      "Epoch 7/110\n",
      "3/3 [==============================] - 1s 372ms/step - loss: 1.1872 - categorical_accuracy: 0.6778\n",
      "Epoch 8/110\n",
      "3/3 [==============================] - 1s 374ms/step - loss: 0.8674 - categorical_accuracy: 0.7556\n",
      "Epoch 9/110\n",
      "3/3 [==============================] - 1s 357ms/step - loss: 0.7868 - categorical_accuracy: 0.7444\n",
      "Epoch 10/110\n",
      "3/3 [==============================] - 1s 376ms/step - loss: 0.6795 - categorical_accuracy: 0.8778\n",
      "Epoch 11/110\n",
      "3/3 [==============================] - 1s 384ms/step - loss: 0.7331 - categorical_accuracy: 0.8000\n",
      "Epoch 12/110\n",
      "3/3 [==============================] - 1s 370ms/step - loss: 0.5741 - categorical_accuracy: 0.9000\n",
      "Epoch 13/110\n",
      "3/3 [==============================] - 1s 369ms/step - loss: 0.5360 - categorical_accuracy: 0.8444\n",
      "Epoch 14/110\n",
      "3/3 [==============================] - 1s 382ms/step - loss: 0.3675 - categorical_accuracy: 0.9000\n",
      "Epoch 15/110\n",
      "3/3 [==============================] - 1s 356ms/step - loss: 0.2655 - categorical_accuracy: 0.8889\n",
      "Epoch 16/110\n",
      "3/3 [==============================] - 1s 354ms/step - loss: 0.2661 - categorical_accuracy: 0.8778\n",
      "Epoch 17/110\n",
      "3/3 [==============================] - 1s 358ms/step - loss: 0.1968 - categorical_accuracy: 0.9222\n",
      "Epoch 18/110\n",
      "3/3 [==============================] - 1s 369ms/step - loss: 0.2861 - categorical_accuracy: 0.8889\n",
      "Epoch 19/110\n",
      "3/3 [==============================] - 1s 386ms/step - loss: 0.2604 - categorical_accuracy: 0.8889\n",
      "Epoch 20/110\n",
      "3/3 [==============================] - 1s 367ms/step - loss: 0.2537 - categorical_accuracy: 0.8889\n",
      "Epoch 21/110\n",
      "3/3 [==============================] - 1s 363ms/step - loss: 0.1925 - categorical_accuracy: 0.9222\n",
      "Epoch 22/110\n",
      "3/3 [==============================] - 1s 364ms/step - loss: 0.1841 - categorical_accuracy: 0.9556\n",
      "Epoch 23/110\n",
      "3/3 [==============================] - 1s 365ms/step - loss: 0.2332 - categorical_accuracy: 0.9000\n",
      "Epoch 24/110\n",
      "3/3 [==============================] - 1s 356ms/step - loss: 0.1968 - categorical_accuracy: 0.9222\n",
      "Epoch 25/110\n",
      "3/3 [==============================] - 1s 377ms/step - loss: 0.1990 - categorical_accuracy: 0.9444\n",
      "Epoch 26/110\n",
      "3/3 [==============================] - 1s 359ms/step - loss: 0.1714 - categorical_accuracy: 0.9222\n",
      "Epoch 27/110\n",
      "3/3 [==============================] - 1s 351ms/step - loss: 0.1766 - categorical_accuracy: 0.9222\n",
      "Epoch 28/110\n",
      "3/3 [==============================] - 1s 370ms/step - loss: 0.1581 - categorical_accuracy: 0.9222\n",
      "Epoch 29/110\n",
      "3/3 [==============================] - 1s 375ms/step - loss: 0.1429 - categorical_accuracy: 0.9556\n",
      "Epoch 30/110\n",
      "3/3 [==============================] - 1s 359ms/step - loss: 0.1639 - categorical_accuracy: 0.9333\n",
      "Epoch 31/110\n",
      "3/3 [==============================] - 1s 361ms/step - loss: 0.2568 - categorical_accuracy: 0.9000\n",
      "Epoch 32/110\n",
      "3/3 [==============================] - 1s 387ms/step - loss: 0.4970 - categorical_accuracy: 0.8333\n",
      "Epoch 33/110\n",
      "3/3 [==============================] - 1s 353ms/step - loss: 0.3676 - categorical_accuracy: 0.8667\n",
      "Epoch 34/110\n",
      "3/3 [==============================] - 1s 370ms/step - loss: 0.2189 - categorical_accuracy: 0.9667\n",
      "Epoch 35/110\n",
      "3/3 [==============================] - 1s 421ms/step - loss: 0.1807 - categorical_accuracy: 0.9667\n",
      "Epoch 36/110\n",
      "3/3 [==============================] - 1s 378ms/step - loss: 0.1644 - categorical_accuracy: 0.9444\n",
      "Epoch 37/110\n",
      "3/3 [==============================] - 1s 399ms/step - loss: 0.1547 - categorical_accuracy: 0.9444\n",
      "Epoch 38/110\n",
      "3/3 [==============================] - 1s 367ms/step - loss: 0.1410 - categorical_accuracy: 0.9444\n",
      "Epoch 39/110\n",
      "3/3 [==============================] - 1s 366ms/step - loss: 0.1176 - categorical_accuracy: 0.9667\n",
      "Epoch 40/110\n",
      "3/3 [==============================] - 1s 395ms/step - loss: 0.1044 - categorical_accuracy: 0.9667\n",
      "Epoch 41/110\n",
      "3/3 [==============================] - 1s 385ms/step - loss: 0.6747 - categorical_accuracy: 0.9333\n",
      "Epoch 42/110\n",
      "3/3 [==============================] - 1s 360ms/step - loss: 3.2758 - categorical_accuracy: 0.6889\n",
      "Epoch 43/110\n",
      "3/3 [==============================] - 1s 361ms/step - loss: 1.1962 - categorical_accuracy: 0.7444\n",
      "Epoch 44/110\n",
      "3/3 [==============================] - 1s 412ms/step - loss: 0.8120 - categorical_accuracy: 0.5667\n",
      "Epoch 45/110\n",
      "3/3 [==============================] - 1s 408ms/step - loss: 0.5344 - categorical_accuracy: 0.6333\n",
      "Epoch 46/110\n",
      "3/3 [==============================] - 1s 385ms/step - loss: 0.3876 - categorical_accuracy: 0.9000\n",
      "Epoch 47/110\n",
      "3/3 [==============================] - 1s 368ms/step - loss: 0.3188 - categorical_accuracy: 0.8778\n",
      "Epoch 48/110\n",
      "3/3 [==============================] - 1s 378ms/step - loss: 0.2839 - categorical_accuracy: 0.9111\n",
      "Epoch 49/110\n",
      "3/3 [==============================] - 1s 364ms/step - loss: 0.3063 - categorical_accuracy: 0.9111\n",
      "Epoch 50/110\n",
      "3/3 [==============================] - 1s 388ms/step - loss: 0.3855 - categorical_accuracy: 0.8222\n",
      "Epoch 51/110\n",
      "3/3 [==============================] - 1s 373ms/step - loss: 0.2384 - categorical_accuracy: 0.9222\n",
      "Epoch 52/110\n",
      "3/3 [==============================] - 1s 368ms/step - loss: 0.2447 - categorical_accuracy: 0.9444\n",
      "Epoch 53/110\n",
      "3/3 [==============================] - 1s 370ms/step - loss: 0.1735 - categorical_accuracy: 0.9444\n",
      "Epoch 54/110\n",
      "3/3 [==============================] - 1s 407ms/step - loss: 0.1416 - categorical_accuracy: 0.9222\n",
      "Epoch 55/110\n",
      "3/3 [==============================] - 1s 378ms/step - loss: 0.1465 - categorical_accuracy: 0.9111\n",
      "Epoch 56/110\n",
      "3/3 [==============================] - 1s 377ms/step - loss: 0.1309 - categorical_accuracy: 0.9444\n",
      "Epoch 57/110\n",
      "3/3 [==============================] - 1s 351ms/step - loss: 0.1103 - categorical_accuracy: 0.9444\n",
      "Epoch 58/110\n",
      "3/3 [==============================] - 1s 360ms/step - loss: 0.1076 - categorical_accuracy: 0.9556\n",
      "Epoch 59/110\n",
      "3/3 [==============================] - 1s 364ms/step - loss: 0.0999 - categorical_accuracy: 0.9556\n",
      "Epoch 60/110\n",
      "3/3 [==============================] - 1s 352ms/step - loss: 0.0781 - categorical_accuracy: 0.9556\n",
      "Epoch 61/110\n",
      "3/3 [==============================] - 1s 363ms/step - loss: 0.0897 - categorical_accuracy: 0.9556\n",
      "Epoch 62/110\n",
      "3/3 [==============================] - 1s 363ms/step - loss: 0.0892 - categorical_accuracy: 0.9556\n",
      "Epoch 63/110\n",
      "3/3 [==============================] - 1s 356ms/step - loss: 0.0871 - categorical_accuracy: 0.9444\n",
      "Epoch 64/110\n",
      "3/3 [==============================] - 1s 372ms/step - loss: 0.1046 - categorical_accuracy: 0.9444\n",
      "Epoch 65/110\n",
      "3/3 [==============================] - 1s 370ms/step - loss: 0.1149 - categorical_accuracy: 0.9444\n",
      "Epoch 66/110\n",
      "3/3 [==============================] - 1s 383ms/step - loss: 0.1102 - categorical_accuracy: 0.9444\n",
      "Epoch 67/110\n",
      "3/3 [==============================] - 1s 346ms/step - loss: 0.1054 - categorical_accuracy: 0.9444\n",
      "Epoch 68/110\n",
      "3/3 [==============================] - 1s 356ms/step - loss: 0.1048 - categorical_accuracy: 0.9444\n",
      "Epoch 69/110\n",
      "3/3 [==============================] - 1s 370ms/step - loss: 0.1024 - categorical_accuracy: 0.9444\n",
      "Epoch 70/110\n",
      "3/3 [==============================] - 1s 358ms/step - loss: 0.0949 - categorical_accuracy: 0.9556\n",
      "Epoch 71/110\n",
      "3/3 [==============================] - 1s 373ms/step - loss: 0.0892 - categorical_accuracy: 0.9556\n",
      "Epoch 72/110\n",
      "3/3 [==============================] - 1s 389ms/step - loss: 0.0834 - categorical_accuracy: 0.9556\n",
      "Epoch 73/110\n",
      "3/3 [==============================] - 1s 363ms/step - loss: 0.0783 - categorical_accuracy: 0.9667\n",
      "Epoch 74/110\n",
      "3/3 [==============================] - 1s 362ms/step - loss: 14.4138 - categorical_accuracy: 0.9333\n",
      "Epoch 75/110\n",
      "3/3 [==============================] - 1s 381ms/step - loss: 0.0809 - categorical_accuracy: 0.9556\n",
      "Epoch 76/110\n",
      "3/3 [==============================] - 1s 355ms/step - loss: 0.0798 - categorical_accuracy: 0.9667\n",
      "Epoch 77/110\n",
      "3/3 [==============================] - 1s 391ms/step - loss: 0.0926 - categorical_accuracy: 0.9667\n",
      "Epoch 78/110\n",
      "3/3 [==============================] - 1s 371ms/step - loss: 0.1013 - categorical_accuracy: 0.9667\n",
      "Epoch 79/110\n",
      "3/3 [==============================] - 1s 377ms/step - loss: 0.0902 - categorical_accuracy: 0.9667\n",
      "Epoch 80/110\n",
      "3/3 [==============================] - 1s 368ms/step - loss: 1.1279 - categorical_accuracy: 0.7889\n",
      "Epoch 81/110\n",
      "3/3 [==============================] - 1s 400ms/step - loss: 17.4167 - categorical_accuracy: 0.4889\n",
      "Epoch 82/110\n",
      "3/3 [==============================] - 1s 358ms/step - loss: 5.2673 - categorical_accuracy: 0.4222\n",
      "Epoch 83/110\n",
      "3/3 [==============================] - 1s 369ms/step - loss: 3.8306 - categorical_accuracy: 0.4111\n",
      "Epoch 84/110\n",
      "3/3 [==============================] - 1s 354ms/step - loss: 230.2446 - categorical_accuracy: 0.3111\n",
      "Epoch 85/110\n",
      "3/3 [==============================] - 1s 378ms/step - loss: 12.9256 - categorical_accuracy: 0.4000\n",
      "Epoch 86/110\n",
      "3/3 [==============================] - 1s 358ms/step - loss: 22.9998 - categorical_accuracy: 0.3889\n",
      "Epoch 87/110\n",
      "3/3 [==============================] - 1s 371ms/step - loss: 9.2189 - categorical_accuracy: 0.4000\n",
      "Epoch 88/110\n",
      "3/3 [==============================] - 1s 352ms/step - loss: 3.9874 - categorical_accuracy: 0.3778\n",
      "Epoch 89/110\n",
      "3/3 [==============================] - 1s 364ms/step - loss: 1.8912 - categorical_accuracy: 0.4111\n",
      "Epoch 90/110\n",
      "3/3 [==============================] - 1s 392ms/step - loss: 1.2546 - categorical_accuracy: 0.3667\n",
      "Epoch 91/110\n",
      "3/3 [==============================] - 1s 366ms/step - loss: 1.1155 - categorical_accuracy: 0.3778\n",
      "Epoch 92/110\n",
      "3/3 [==============================] - 1s 371ms/step - loss: 1.1175 - categorical_accuracy: 0.3556\n",
      "Epoch 93/110\n",
      "3/3 [==============================] - 1s 357ms/step - loss: 1.0246 - categorical_accuracy: 0.4333\n",
      "Epoch 94/110\n",
      "3/3 [==============================] - 1s 356ms/step - loss: 1.0962 - categorical_accuracy: 0.3889\n",
      "Epoch 95/110\n",
      "3/3 [==============================] - 1s 344ms/step - loss: 1.0440 - categorical_accuracy: 0.3889\n",
      "Epoch 96/110\n",
      "3/3 [==============================] - 1s 348ms/step - loss: 1.0220 - categorical_accuracy: 0.4111\n",
      "Epoch 97/110\n",
      "3/3 [==============================] - 1s 362ms/step - loss: 1.0180 - categorical_accuracy: 0.3889\n",
      "Epoch 98/110\n",
      "3/3 [==============================] - 1s 355ms/step - loss: 1.0042 - categorical_accuracy: 0.4333\n",
      "Epoch 99/110\n",
      "3/3 [==============================] - 1s 366ms/step - loss: 0.9904 - categorical_accuracy: 0.4444\n",
      "Epoch 100/110\n",
      "3/3 [==============================] - 1s 367ms/step - loss: 0.9765 - categorical_accuracy: 0.4222\n",
      "Epoch 101/110\n",
      "3/3 [==============================] - 1s 367ms/step - loss: 0.9673 - categorical_accuracy: 0.4111\n",
      "Epoch 102/110\n",
      "3/3 [==============================] - 1s 389ms/step - loss: 0.9396 - categorical_accuracy: 0.4778\n",
      "Epoch 103/110\n",
      "3/3 [==============================] - 1s 373ms/step - loss: 0.9062 - categorical_accuracy: 0.5889\n",
      "Epoch 104/110\n",
      "3/3 [==============================] - 1s 370ms/step - loss: 0.9003 - categorical_accuracy: 0.5000\n",
      "Epoch 105/110\n",
      "3/3 [==============================] - 1s 364ms/step - loss: 0.9161 - categorical_accuracy: 0.5222\n",
      "Epoch 106/110\n",
      "3/3 [==============================] - 1s 364ms/step - loss: 0.9401 - categorical_accuracy: 0.4333\n",
      "Epoch 107/110\n",
      "3/3 [==============================] - 1s 388ms/step - loss: 1.1142 - categorical_accuracy: 0.2667\n",
      "Epoch 108/110\n",
      "3/3 [==============================] - 1s 369ms/step - loss: 1.1106 - categorical_accuracy: 0.2778\n",
      "Epoch 109/110\n",
      "3/3 [==============================] - 1s 357ms/step - loss: 1.0999 - categorical_accuracy: 0.2667\n",
      "Epoch 110/110\n",
      "3/3 [==============================] - 1s 360ms/step - loss: 1.0963 - categorical_accuracy: 0.2778\n"
     ]
    },
    {
     "data": {
      "text/plain": [
       "<keras.callbacks.History at 0x29faa295bb0>"
      ]
     },
     "execution_count": 99,
     "metadata": {},
     "output_type": "execute_result"
    }
   ],
   "source": [
    "model.fit(x_train, y_train, epochs = 110, callbacks = [tb_callback])"
   ]
  },
  {
   "cell_type": "code",
   "execution_count": 100,
   "metadata": {},
   "outputs": [
    {
     "name": "stdout",
     "output_type": "stream",
     "text": [
      "Model: \"sequential_1\"\n",
      "_________________________________________________________________\n",
      " Layer (type)                Output Shape              Param #   \n",
      "=================================================================\n",
      " lstm_3 (LSTM)               (None, 30, 64)            50432     \n",
      "                                                                 \n",
      " lstm_4 (LSTM)               (None, 30, 128)           98816     \n",
      "                                                                 \n",
      " lstm_5 (LSTM)               (None, 64)                49408     \n",
      "                                                                 \n",
      " dense_3 (Dense)             (None, 64)                4160      \n",
      "                                                                 \n",
      " dense_4 (Dense)             (None, 32)                2080      \n",
      "                                                                 \n",
      " dense_5 (Dense)             (None, 3)                 99        \n",
      "                                                                 \n",
      "=================================================================\n",
      "Total params: 204,995\n",
      "Trainable params: 204,995\n",
      "Non-trainable params: 0\n",
      "_________________________________________________________________\n"
     ]
    }
   ],
   "source": [
    "model.summary()"
   ]
  },
  {
   "cell_type": "code",
   "execution_count": 101,
   "metadata": {},
   "outputs": [],
   "source": [
    "results = model.predict(x_test)\n",
    "# actions[np.argmax(res[4])]\n",
    "# actions[np.argmax(y_test[4])]\n",
    "# res is modeled as such. res = [0.1, 0.5, 0.4] s.t. each value is the probability of an action occurring "
   ]
  },
  {
   "cell_type": "code",
   "execution_count": null,
   "metadata": {},
   "outputs": [],
   "source": [
    "model.save('action_classifier.h5')\n",
    "model.built = True\n",
    "model.load_weights('action_classifier.h5')"
   ]
  },
  {
   "cell_type": "code",
   "execution_count": null,
   "metadata": {},
   "outputs": [],
   "source": [
    "from tensorflow.keras.models import Sequential\n",
    "from tensorflow.keras.layers import LSTM, Dense\n",
    "from tensorflow.keras.callbacks import TensorBoard"
   ]
  },
  {
   "cell_type": "code",
   "execution_count": null,
   "metadata": {},
   "outputs": [],
   "source": [
    "log_dir = os.path.join('Logs')\n",
    "tb_callback = TensorBoard(log_dir=log_dir)"
   ]
  },
  {
   "cell_type": "markdown",
   "metadata": {},
   "source": [
    "Evaluating Model Performance"
   ]
  },
  {
   "cell_type": "code",
   "execution_count": 83,
   "metadata": {},
   "outputs": [
    {
     "data": {
      "text/plain": [
       "array([[[39,  2],\n",
       "        [ 0, 19]],\n",
       "\n",
       "       [[35,  0],\n",
       "        [ 2, 23]],\n",
       "\n",
       "       [[44,  0],\n",
       "        [ 0, 16]]], dtype=int64)"
      ]
     },
     "execution_count": 83,
     "metadata": {},
     "output_type": "execute_result"
    }
   ],
   "source": [
    "from sklearn.metrics import multilabel_confusion_matrix, accuracy_score\n",
    "yhat = model.predict(x_test)\n",
    "ytrue = np.argmax(y_test, axis = 1).tolist()\n",
    "yhat = np.argmax(yhat, axis = 1).tolist()\n",
    "\n",
    "multilabel_confusion_matrix(ytrue, yhat) #top left, bottom right are true positive, true negative\n",
    "# accuracy_score(ytrue, yhat)\n",
    "\n",
    "\n"
   ]
  },
  {
   "cell_type": "code",
   "execution_count": 69,
   "metadata": {},
   "outputs": [],
   "source": [
    "from sklearn.metrics import confusion_matrix\n",
    "import itertools"
   ]
  },
  {
   "cell_type": "code",
   "execution_count": 74,
   "metadata": {},
   "outputs": [
    {
     "data": {
      "text/plain": [
       "array([[0, 0, 1],\n",
       "       [1, 0, 0],\n",
       "       [0, 1, 0],\n",
       "       [0, 0, 1],\n",
       "       [0, 1, 0],\n",
       "       [0, 1, 0],\n",
       "       [0, 0, 1],\n",
       "       [0, 0, 1],\n",
       "       [0, 0, 1],\n",
       "       [1, 0, 0],\n",
       "       [0, 0, 1],\n",
       "       [0, 1, 0],\n",
       "       [0, 1, 0],\n",
       "       [1, 0, 0],\n",
       "       [0, 1, 0],\n",
       "       [0, 0, 1],\n",
       "       [0, 1, 0],\n",
       "       [0, 1, 0],\n",
       "       [0, 1, 0],\n",
       "       [0, 1, 0],\n",
       "       [1, 0, 0],\n",
       "       [1, 0, 0],\n",
       "       [0, 1, 0],\n",
       "       [0, 1, 0],\n",
       "       [0, 0, 1],\n",
       "       [0, 1, 0],\n",
       "       [0, 1, 0],\n",
       "       [0, 0, 1],\n",
       "       [1, 0, 0],\n",
       "       [1, 0, 0],\n",
       "       [1, 0, 0],\n",
       "       [1, 0, 0],\n",
       "       [0, 1, 0],\n",
       "       [0, 1, 0],\n",
       "       [1, 0, 0],\n",
       "       [1, 0, 0],\n",
       "       [0, 0, 1],\n",
       "       [1, 0, 0],\n",
       "       [1, 0, 0],\n",
       "       [0, 1, 0],\n",
       "       [1, 0, 0],\n",
       "       [1, 0, 0],\n",
       "       [0, 1, 0],\n",
       "       [0, 0, 1],\n",
       "       [0, 0, 1],\n",
       "       [0, 1, 0],\n",
       "       [0, 1, 0],\n",
       "       [0, 1, 0],\n",
       "       [0, 0, 1],\n",
       "       [1, 0, 0],\n",
       "       [1, 0, 0],\n",
       "       [1, 0, 0],\n",
       "       [0, 0, 1],\n",
       "       [0, 1, 0],\n",
       "       [0, 1, 0],\n",
       "       [0, 1, 0],\n",
       "       [0, 0, 1],\n",
       "       [1, 0, 0],\n",
       "       [0, 0, 1],\n",
       "       [0, 1, 0]])"
      ]
     },
     "execution_count": 74,
     "metadata": {},
     "output_type": "execute_result"
    }
   ],
   "source": [
    "y_test"
   ]
  },
  {
   "cell_type": "code",
   "execution_count": 96,
   "metadata": {},
   "outputs": [
    {
     "name": "stdout",
     "output_type": "stream",
     "text": [
      "[[19  0  0]\n",
      " [ 2 23  0]\n",
      " [ 0  0 16]]\n",
      "Confusion matrix, without normalization\n"
     ]
    },
    {
     "data": {
      "image/png": "[encoded data removed]",
      "text/plain": [
       "<Figure size 288x288 with 2 Axes>"
      ]
     },
     "metadata": {
      "needs_background": "light"
     },
     "output_type": "display_data"
    }
   ],
   "source": [
    "\n",
    "\n",
    "# define function to implement confusion matrix with normalization capability\n",
    "def plot_confusion_matrix(cm, classes, normalize=False,\n",
    "                          title='Confusion matrix',\n",
    "                          cmap=plt.cm.Reds):\n",
    "\n",
    "    if normalize:\n",
    "        cm = cm.astype('float') / cm.sum(axis=1)[:, np.newaxis]\n",
    "        print(\"Normalized confusion matrix\")\n",
    "    else:\n",
    "        print('Confusion matrix, without normalization')\n",
    "\n",
    "    plt.imshow(cm, interpolation='nearest', cmap=cmap)\n",
    "    plt.title(title)\n",
    "    plt.colorbar()\n",
    "    tick_marks = np.arange(len(classes))\n",
    "    plt.xticks(tick_marks, classes, rotation=90)\n",
    "    plt.yticks(tick_marks, classes)\n",
    "\n",
    "    fmt = '.2f' if normalize else 'd'\n",
    "    thresh = cm.max() / 2.\n",
    "    for i, j in itertools.product(range(cm.shape[0]), range(cm.shape[1])):\n",
    "        plt.text(j, i, format(cm[i, j], fmt),\n",
    "                 horizontalalignment=\"center\",\n",
    "                 color=\"white\" if cm[i, j] > thresh else \"black\")\n",
    "\n",
    "    plt.tight_layout()\n",
    "    plt.ylabel('True label')\n",
    "    plt.xlabel('Predicted label')\n",
    "\n",
    "y_pred_log = model.predict(x_test)\n",
    "y_pred_log = np.argmax(y_pred_log,axis=1)\n",
    "y_test1 = np.argmax(y_test, axis=1)\n",
    "cnf_rtree = confusion_matrix(y_test1, y_pred_log)\n",
    "\n",
    "print(cnf_rtree)\n",
    "\n",
    "fig = plt.figure()\n",
    "fig.set_size_inches(4, 4, forward=True)\n",
    "plot_confusion_matrix(cnf_rtree, classes=['lunge','fleche','nothing'],\n",
    "                      title='Confusion Matrix')"
   ]
  },
  {
   "cell_type": "markdown",
   "metadata": {},
   "source": [
    "Test in Real-Time"
   ]
  },
  {
   "cell_type": "code",
   "execution_count": null,
   "metadata": {},
   "outputs": [],
   "source": [
    "\n",
    "\n",
    "colors = [(245,117,16), (117,245,16), (16,117,245)]\n",
    "def prob_viz(res, actions, input_frame, colors):\n",
    "    output_frame = input_frame.copy()\n",
    "    for num, prob in enumerate(res):\n",
    "        cv2.rectangle(output_frame, (0,60+num*40), (int(prob*100), 90+num*40), colors[num], -1)\n",
    "        cv2.putText(output_frame, actions[num], (0, 85+num*40), cv2.FONT_HERSHEY_SIMPLEX, 1, (255,255,255), 2, cv2.LINE_AA)\n",
    "        \n",
    "    return output_frame"
   ]
  },
  {
   "cell_type": "code",
   "execution_count": null,
   "metadata": {},
   "outputs": [],
   "source": [
    "sequence = []\n",
    "sentence = []\n",
    "predictions = []\n",
    "threshold = 0.7 #confidence metric - render if higher than the threshold\n",
    "\n",
    "cap = cv2.VideoCapture(0)\n",
    "\n",
    "#set mediapipe model - will make initial detection, and then track keypoints - setting the different values. We can change these values\n",
    "with mp_holistic.Holistic(min_detection_confidence = 0.5, min_tracking_confidence = 0.5) as holistic:   \n",
    "    while cap.isOpened():\n",
    "\n",
    "        #feed, looping every single frame\n",
    "        ret, frame = cap.read()\n",
    "\n",
    "        #Make the detections using mediapipe_detection function\n",
    "        image, results = mediapipe_detection(frame, holistic)\n",
    "\n",
    "\n",
    "        #Draw landmarks\n",
    "        draw_landmarks(image, results)\n",
    "\n",
    "\n",
    "        #prediction logic\n",
    "        keypoints = extract_keypoints(results)\n",
    "        sequence.append(keypoints)\n",
    "        sequence = sequence[-30:]\n",
    "\n",
    "        if len(sequence) == 30:\n",
    "            res = model.predict(np.expand_dims(sequence, axis = 0))[0]\n",
    "            print(actions[np.argmax(res)])\n",
    "            predictions.append(np.argmax(res))\n",
    "        \n",
    "            if np.unique(predictions[-10:])[0] == np.argmax(res): #check for stability over past 10 frames\n",
    "                if res[np.argmax(res)] > threshold:\n",
    "                    if len(sentence) > 0:\n",
    "                        if actions[np.argmax(res)] != sentence[-1]:\n",
    "                            sentence.append(actions[np.argmax(res)])\n",
    "                    else:\n",
    "                        sentence.append(actions[np.argmax(res)])\n",
    "\n",
    "            if len(sentence) > 5:\n",
    "                sentence = sentence[-5:]\n",
    "\n",
    "            image = prob_viz(res, actions, image, colors)\n",
    "        \n",
    "        # cv2.rectangle(image, (0,0), (640,640), (245,117,16), -1)\n",
    "        cv2.putText(image, ' '.join(sentence), (3,30),\n",
    "                    cv2.FONT_HERSHEY_SIMPLEX, 1, (255,0,0), 2, cv2.LINE_AA)\n",
    "\n",
    "        #show the frame!\n",
    "        cv2.imshow('OpenCV Feed', image)\n",
    "        if cv2.waitKey(10) & 0xFF == ord('q'):\n",
    "            break\n",
    "    cap.release()\n",
    "    cv2.destroyAllWindows()"
   ]
  },
  {
   "cell_type": "code",
   "execution_count": null,
   "metadata": {},
   "outputs": [],
   "source": [
    "res[np.argmax(res)]"
   ]
  },
  {
   "cell_type": "code",
   "execution_count": null,
   "metadata": {},
   "outputs": [],
   "source": []
  }
 ],
 "metadata": {
  "interpreter": {
   "hash": "06181f1dd0bfb88186b362bc3d4abd51f3663396e4fcdb218b063a4b4b0ab83d"
  },
  "kernelspec": {
   "display_name": "Python 3.9.6 64-bit ('venv': venv)",
   "language": "python",
   "name": "python3"
  },
  "language_info": {
   "codemirror_mode": {
    "name": "ipython",
    "version": 3
   },
   "file_extension": ".py",
   "mimetype": "text/x-python",
   "name": "python",
   "nbconvert_exporter": "python",
   "pygments_lexer": "ipython3",
   "version": "3.9.6"
  },
  "orig_nbformat": 4
 },
 "nbformat": 4,
 "nbformat_minor": 2
}
